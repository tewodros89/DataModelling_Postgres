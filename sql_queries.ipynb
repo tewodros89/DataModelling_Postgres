{
 "cells": [
  {
   "cell_type": "code",
   "execution_count": 2,
   "metadata": {
    "editable": true
   },
   "outputs": [],
   "source": [
    "# DROP TABLES\n",
    "songplay_table_drop = \"DROP TABLE IF EXISTS songplays\"\n",
    "user_table_drop = \"DROP TABLE IF EXISTS users\"\n",
    "song_table_drop = \"DROP TABLE IF EXISTS songs\"\n",
    "artist_table_drop = \"DROP TABLE IF EXISTS artists\"\n",
    "time_table_drop = \"DROP TABLE IF EXISTS time\""
   ]
  },
  {
   "cell_type": "code",
   "execution_count": 3,
   "metadata": {
    "editable": true
   },
   "outputs": [
    {
     "ename": "SyntaxError",
     "evalue": "invalid syntax (<ipython-input-3-06ee4def8b99>, line 14)",
     "output_type": "error",
     "traceback": [
      "\u001b[0;36m  File \u001b[0;32m\"<ipython-input-3-06ee4def8b99>\"\u001b[0;36m, line \u001b[0;32m14\u001b[0m\n\u001b[0;31m    PRIMARY KEY (songplay_id)\"\"\"))\u001b[0m\n\u001b[0m                                  \n^\u001b[0m\n\u001b[0;31mSyntaxError\u001b[0m\u001b[0;31m:\u001b[0m invalid syntax\n"
     ]
    }
   ],
   "source": [
    "\n",
    "# CREATE TABLES\n",
    "\n",
    "songplay_table_create = (\"\"\"create table if not exists songplays (\n",
    "                         songplay_id SERIAL PRIMARY KEY,\n",
    "                         start_time timestamp NOT NULL,\n",
    "                         user_id int NOT NULL,\n",
    "                         level varchar,\n",
    "                         song_id varchar,\n",
    "                         artist_id varchar,\n",
    "                         session_id int,\n",
    "                         location varchar,\n",
    "                         user_agent varchar \"\"\"))\n",
    "\n",
    "user_table_create = (\"\"\"create table if not exists users (\n",
    "                         user_id int  primary key,\n",
    "                         first_name varchar,\n",
    "                         last_name varchar,\n",
    "                         gender varchar,\n",
    "                         level varchar\n",
    "                         \"\"\"))\n",
    "\n",
    "song_table_create = (\"\"\"create table if not exists songs (\n",
    "                        song_id varchar primary key,\n",
    "                        title varchar,\n",
    "                        artist_id varchar,\n",
    "                        year varchar,\n",
    "                        duration float\n",
    "                        \"\"\"))\n",
    "\n",
    "artist_table_create = (\"\"\"create table if not exists artists (\n",
    "                        artist_id varchar primary key,\n",
    "                        name varchar,\n",
    "                        location varchar,\n",
    "                        latitude float,\n",
    "                        longitude float)\n",
    "                        \"\"\")\n",
    "\n",
    "time_table_create = (\"\"\" create table if not exists time (\n",
    "                        start_time timestamp primary key,\n",
    "                        hour int,\n",
    "                        day int,\n",
    "                        week int,\n",
    "                        month int,\n",
    "                        year int,\n",
    "                        weekday int)\n",
    "                        \"\"\")"
   ]
  },
  {
   "cell_type": "code",
   "execution_count": 1,
   "metadata": {
    "editable": true
   },
   "outputs": [],
   "source": [
    "# INSERT RECORDS\n",
    "\n",
    "songplay_table_insert = (\"\"\"\n",
    "                        INSERT INTO songplays (\n",
    "                                 start_time,\n",
    "                                 user_id,\n",
    "                                 level,\n",
    "                                 song_id,\n",
    "                                 artist_id ,\n",
    "                                 session_id ,\n",
    "                                 location ,\n",
    "                                 user_agent )\n",
    "                                VALUES (%s, %s, %s, %s,%s,%s, %s, %s) ON CONFLICT DO NOTHING\"\"\")\n",
    "\n",
    "user_table_insert = (\"\"\" \n",
    "                      INSERT INTO users (  \n",
    "                         user_id,\n",
    "                         first_name,\n",
    "                         last_name,\n",
    "                         gender,\n",
    "                         level) VALUES (%s, %s, %s, %s,%s) ON CONFLICT (user_id) DO UPDATE SET level = EXCLUDED.level\"\n",
    "\"\"\")\n",
    "\n",
    "song_table_insert = (\"\"\" \n",
    "                    INSERT INTO songs (\n",
    "                        song_id,\n",
    "                        title,\n",
    "                        artist_id,\n",
    "                        year,\n",
    "                        duration) VALUES (%s, %s, %s, %s,%s) ON CONFLICT DO NOTHING\n",
    "\"\"\")\n",
    "\n",
    "artist_table_insert = (\"\"\"\n",
    "                        INSERT INTO artists (\n",
    "                        artist_id,\n",
    "                        name,\n",
    "                        location,\n",
    "                        latitude,\n",
    "                        longitude) VALUES (%s, %s, %s, %s,%s) ON CONFLICT DO NOTHING\n",
    "\"\"\")\n",
    "\n",
    "\n",
    "time_table_insert = (\"\"\"\n",
    "                        INSERT INTO time (\n",
    "                        start_time,\n",
    "                        hour,\n",
    "                        day,\n",
    "                        week,\n",
    "                        month,\n",
    "                        year,\n",
    "                        weekday)VALUES (%s, %s, %s, %s,%s,%s,%s) ON CONFLICT DO NOTHING\n",
    "\"\"\")\n"
   ]
  },
  {
   "cell_type": "code",
   "execution_count": null,
   "metadata": {
    "editable": true
   },
   "outputs": [],
   "source": [
    "# FIND SONGS\n",
    "\n",
    "song_select = (\"\"\"SELECT songs.song_id, artists.artist_id\n",
    "                                       FROM songs \n",
    "                                       JOIN artists \n",
    "                                       ON songs.artist_id = artists.artist_id\n",
    "                                       WHERE songs.title = %s \n",
    "                                       AND artists.name = %s             \n",
    "                                       AND songs.duration = %s\n",
    "\"\"\")\n"
   ]
  },
  {
   "cell_type": "code",
   "execution_count": null,
   "metadata": {
    "editable": true
   },
   "outputs": [],
   "source": [
    "# QUERY LISTS\n",
    "\n",
    "create_table_queries = [songplay_table_create, user_table_create, song_table_create, artist_table_create, time_table_create]\n",
    "drop_table_queries = [songplay_table_drop, user_table_drop, song_table_drop, artist_table_drop, time_table_drop]"
   ]
  },
  {
   "cell_type": "code",
   "execution_count": null,
   "metadata": {
    "editable": true
   },
   "outputs": [],
   "source": []
  }
 ],
 "metadata": {
  "kernelspec": {
   "display_name": "Python 3",
   "language": "python",
   "name": "python3"
  },
  "language_info": {
   "codemirror_mode": {
    "name": "ipython",
    "version": 3
   },
   "file_extension": ".py",
   "mimetype": "text/x-python",
   "name": "python",
   "nbconvert_exporter": "python",
   "pygments_lexer": "ipython3",
   "version": "3.6.3"
  }
 },
 "nbformat": 4,
 "nbformat_minor": 4
}
